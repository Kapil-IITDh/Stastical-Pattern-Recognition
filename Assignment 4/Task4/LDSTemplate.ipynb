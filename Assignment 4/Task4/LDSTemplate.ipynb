{
 "cells": [
  {
   "cell_type": "markdown",
   "metadata": {},
   "source": [
    "### Task 2: Linear Dataset"
   ]
  },
  {
   "cell_type": "markdown",
   "metadata": {},
   "source": [
    "#### Importing libraries"
   ]
  },
  {
   "cell_type": "code",
   "execution_count": null,
   "metadata": {},
   "outputs": [],
   "source": [
    "import numpy as np\n",
    "import pandas as pd\n",
    "from sklearn.neighbors import KNeighborsClassifier\n",
    "from sklearn.metrics import accuracy_score, precision_score, recall_score, f1_score, confusion_matrix\n",
    "import matplotlib.pyplot as plt"
   ]
  },
  {
   "cell_type": "markdown",
   "metadata": {},
   "source": [
    "#### Loading datasets"
   ]
  },
  {
   "cell_type": "code",
   "execution_count": null,
   "metadata": {},
   "outputs": [],
   "source": [
    "df1 = pd.read_csv(\"../Datasets/LinearDataset/Class1.txt\",delimiter=' ', header=None)\n",
    "df2 = pd.read_csv(\"../Datasets/LinearDataset/Class2.txt\",delimiter=' ', header=None)\n",
    "df3 = pd.read_csv(\"../Datasets/LinearDataset/Class3.txt\",delimiter=' ', header=None)"
   ]
  },
  {
   "cell_type": "markdown",
   "metadata": {},
   "source": [
    "#### Dividing training and testing data"
   ]
  },
  {
   "cell_type": "code",
   "execution_count": null,
   "metadata": {},
   "outputs": [],
   "source": [
    "df1_train = df1[:int(len(df1)*0.7)]\n",
    "df1_test = df1[int(len(df1)*0.7):]\n",
    "df2_train = df2[:int(len(df2)*0.7)]\n",
    "df2_test = df2[int(len(df2)*0.7):]\n",
    "df3_train = df3[:int(len(df3)*0.7)]\n",
    "df3_test = df3[int(len(df3)*0.7):]"
   ]
  }
 ],
 "metadata": {
  "language_info": {
   "name": "python"
  }
 },
 "nbformat": 4,
 "nbformat_minor": 2
}
